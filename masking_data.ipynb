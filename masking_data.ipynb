{
 "cells": [
  {
   "cell_type": "code",
   "execution_count": 1,
   "metadata": {},
   "outputs": [],
   "source": [
    "import numpy as np\n",
    "from astropy.io import fits\n",
    "from astropy.wcs import WCS\n",
    "import matplotlib.pyplot as plt"
   ]
  },
  {
   "cell_type": "code",
   "execution_count": 2,
   "metadata": {},
   "outputs": [],
   "source": [
    "from scipy import ndimage"
   ]
  },
  {
   "cell_type": "code",
   "execution_count": 3,
   "metadata": {},
   "outputs": [],
   "source": [
    "from skimage import measure"
   ]
  },
  {
   "cell_type": "code",
   "execution_count": 4,
   "metadata": {},
   "outputs": [],
   "source": [
    "def ds9_mask(mask_fits):\n",
    "    \n",
    "    # read in mask fits file and initialize WCS \n",
    "    hdu_mask = fits.open(mask_fits)\n",
    "    wcs = WCS(hdu_mask[0].header)\n",
    "    \n",
    "    # label each region to masked out and calculate size\n",
    "    label_im, nb_labels = ndimage.label(hdu_mask[0].data)\n",
    "    test = measure.regionprops(label_im, hdu_mask[0].data)\n",
    "    \n",
    "    # get coords and radius\n",
    "    radius_array = []\n",
    "    coords_array = []\n",
    "    \n",
    "    for i in range(len(test)):\n",
    "        radius = hdu_mask[0].header['CDELT2']*np.ceil(test[i].equivalent_diameter)/2\n",
    "        coords = wcs.wcs_pix2world(test[i].centroid[1], test[i].centroid[0], 0)\n",
    "        coords = [float(coords[0]), float(coords[1])]\n",
    "        \n",
    "        radius_array.append(radius)\n",
    "        coords_array.append(coords)\n",
    "        \n",
    "    # output file that follows ds9 region file standards\n",
    "    header = \"\"\"# Region file format: DS9 version 4.1\n",
    "global color=green dashlist=8 3 width=1 font=\"helvetica 10 normal roman\" select=1 highlite=1 dash=0 fixed=0 edit=1 move=1 delete=1 include=1 source=1\n",
    "fk5 \\n\"\"\"\n",
    "    \n",
    "    filename = mask_fits.split('.')[0]+'.reg'\n",
    "    with open(filename, 'w') as file:\n",
    "        file.write(header)\n",
    "        for i in range(len(radius_array)):\n",
    "            line = 'circle('+ str(coords_array[i][0]) + ',' + str(coords_array[i][1]) + ',' + str(radius_array[i]) + ') \\n'\n",
    "            file.write(line)\n",
    "            \n",
    "    print('complete ' + mask_fits)"
   ]
  },
  {
   "cell_type": "code",
   "execution_count": 5,
   "metadata": {},
   "outputs": [],
   "source": [
    "import glob as glob"
   ]
  },
  {
   "cell_type": "code",
   "execution_count": 8,
   "metadata": {},
   "outputs": [],
   "source": [
    "list_fits = glob.glob(\"*stars.fits\")"
   ]
  },
  {
   "cell_type": "code",
   "execution_count": 9,
   "metadata": {},
   "outputs": [
    {
     "name": "stdout",
     "output_type": "stream",
     "text": [
      "starting ngc5204_nuv_gauss7p5_stars.fits\n",
      "complete ngc5204_nuv_gauss7p5_stars.fits\n",
      "starting ngc4214_nuv_gauss7p5_stars.fits\n",
      "complete ngc4214_nuv_gauss7p5_stars.fits\n",
      "starting ngc253_nuv_gauss7p5_stars.fits\n",
      "complete ngc253_nuv_gauss7p5_stars.fits\n",
      "starting ngc4449_nuv_gauss7p5_stars.fits\n",
      "complete ngc4449_nuv_gauss7p5_stars.fits\n",
      "starting ngc1313_nuv_gauss7p5_stars.fits\n",
      "complete ngc1313_nuv_gauss7p5_stars.fits\n",
      "starting ngc625_nuv_gauss7p5_stars.fits\n",
      "complete ngc625_nuv_gauss7p5_stars.fits\n",
      "starting ngc7793_nuv_gauss7p5_stars.fits\n",
      "complete ngc7793_nuv_gauss7p5_stars.fits\n"
     ]
    }
   ],
   "source": [
    "for fits_file in list_fits:\n",
    "    print('starting', fits_file)\n",
    "    ds9_mask(fits_file)"
   ]
  },
  {
   "cell_type": "code",
   "execution_count": 8,
   "metadata": {},
   "outputs": [],
   "source": [
    "# now look at true image with mask overtop and then figure out how to run the photometry again"
   ]
  },
  {
   "cell_type": "code",
   "execution_count": null,
   "metadata": {},
   "outputs": [],
   "source": []
  }
 ],
 "metadata": {
  "kernelspec": {
   "display_name": "Python 3",
   "language": "python",
   "name": "python3"
  },
  "language_info": {
   "codemirror_mode": {
    "name": "ipython",
    "version": 3
   },
   "file_extension": ".py",
   "mimetype": "text/x-python",
   "name": "python",
   "nbconvert_exporter": "python",
   "pygments_lexer": "ipython3",
   "version": "3.7.3"
  }
 },
 "nbformat": 4,
 "nbformat_minor": 4
}
